{
  "nbformat": 4,
  "nbformat_minor": 0,
  "metadata": {
    "colab": {
      "provenance": []
    },
    "kernelspec": {
      "name": "python3",
      "display_name": "Python 3"
    },
    "language_info": {
      "name": "python"
    }
  },
  "cells": [
    {
      "cell_type": "markdown",
      "source": [
        "# **Penting**\n",
        "- Jangan mengubah atau menambahkan cell text yang sudah disediakan, Anda hanya perlu mengerjakan cell code yang sudah disediakan.\n",
        "- Pastikan seluruh kriteria memiliki output yang sesuai, karena jika tidak ada output dianggap tidak selesai.\n",
        "- Misal, Anda menggunakan df = df.dropna() silakan gunakan df.isnull().sum() sebagai tanda sudah berhasil. Silakan sesuaikan seluruh output dengan perintah yang sudah disediakan.\n",
        "- Pastikan Anda melakukan Run All sebelum mengirimkan submission untuk memastikan seluruh cell berjalan dengan baik.\n",
        "- Pastikan Anda menggunakan variabel df dari awal sampai akhir dan tidak diperbolehkan mengganti nama variabel tersebut.\n",
        "- Hapus simbol pagar (#) pada kode yang bertipe komentar jika Anda menerapkan kriteria tambahan\n",
        "- Biarkan simbol pagar (#) jika Anda tidak menerapkan kriteria tambahan\n",
        "- Pastikan Anda mengerjakan sesuai section yang sudah diberikan tanpa mengubah judul atau header yang disediakan."
      ],
      "metadata": {
        "id": "0tvAKGat01Sd"
      }
    },
    {
      "cell_type": "markdown",
      "source": [
        "# **1. Import Library**\n",
        "Pada tahap ini, Anda perlu mengimpor beberapa pustaka (library) Python yang dibutuhkan untuk analisis data dan pembangunan model machine learning."
      ],
      "metadata": {
        "id": "fKADPWcFKlj3"
      }
    },
    {
      "cell_type": "code",
      "source": [
        "#Type your code here\n",
        "import pandas as pd\n",
        "import numpy as np\n",
        "import matplotlib.pyplot as plt\n",
        "import seaborn as sns\n",
        "from sklearn.model_selection import train_test_split\n",
        "from sklearn.preprocessing import LabelEncoder\n",
        "from sklearn.tree import DecisionTreeClassifier\n",
        "from sklearn.neighbors import KNeighborsClassifier\n",
        "from sklearn.ensemble import RandomForestClassifier\n",
        "from sklearn.svm import SVC\n",
        "from sklearn.naive_bayes import GaussianNB\n",
        "from sklearn.metrics import accuracy_score, precision_score, recall_score, f1_score, confusion_matrix\n",
        "from sklearn.linear_model import LogisticRegression\n",
        "from sklearn.model_selection import GridSearchCV\n",
        "from sklearn.metrics import accuracy_score\n",
        "import joblib"
      ],
      "metadata": {
        "id": "BlmvjLY9M4Yj"
      },
      "execution_count": 25,
      "outputs": []
    },
    {
      "cell_type": "markdown",
      "source": [
        "# **2. Memuat Dataset dari Hasil Clustering**\n",
        "Memuat dataset hasil clustering dari file CSV ke dalam variabel DataFrame."
      ],
      "metadata": {
        "id": "f3YIEnAFKrKL"
      }
    },
    {
      "cell_type": "code",
      "source": [
        "# Gunakan dataset hasil clustering yang memiliki fitur Target\n",
        "# Silakan gunakan dataset data_clustering jika tidak menerapkan Interpretasi Hasil Clustering [Advanced]\n",
        "# Silakan gunakan dataset data_clustering_inverse jika menerapkan Interpretasi Hasil Clustering [Advanced]\n",
        "# Lengkapi kode berikut\n",
        "# ___ = pd_read_csv(\"___.csv\")\n",
        "data_clustering = pd.read_csv('data_clustering.csv')\n",
        "data_clustering_inverse = pd.read_csv('data_clustering_inverse.csv')"
      ],
      "metadata": {
        "id": "GHCGNTyrM5fS"
      },
      "execution_count": 26,
      "outputs": []
    },
    {
      "cell_type": "code",
      "source": [
        "# Tampilkan 5 baris pertama dengan function head.\n",
        "print(\"Tampilkan 5 baris pertama pada dataset clustering :\")\n",
        "print(data_clustering.head())\n",
        "\n",
        "print(\"Tampilkan 5 baris pertama pada dataset clustering_inverse :\")\n",
        "print(data_clustering_inverse.head())"
      ],
      "metadata": {
        "id": "bCsep0NZ0LUf",
        "colab": {
          "base_uri": "https://localhost:8080/"
        },
        "outputId": "35e6a427-2dd5-46ab-9baa-84c4f8cf0125"
      },
      "execution_count": 27,
      "outputs": [
        {
          "output_type": "stream",
          "name": "stdout",
          "text": [
            "Tampilkan 5 baris pertama pada dataset clustering :\n",
            "   TransactionAmount  TransactionDate  TransactionType  Location  Channel  \\\n",
            "0           0.007207              680                1        36        0   \n",
            "1           0.195940             1178                1        15        0   \n",
            "2           0.065680             1262                1        23        2   \n",
            "3           0.096016              818                1        33        2   \n",
            "4           0.047888              635                1        28        0   \n",
            "\n",
            "   CustomerAge  CustomerOccupation  TransactionDuration  LoginAttempts  \\\n",
            "0     0.838710                   0             0.244828            0.0   \n",
            "1     0.806452                   0             0.451724            0.0   \n",
            "2     0.016129                   3             0.158621            0.0   \n",
            "3     0.129032                   3             0.051724            0.0   \n",
            "4     0.000000                   3             0.558621            0.0   \n",
            "\n",
            "   AccountBalance  PreviousTransactionDate TransactionAmount_binned  \\\n",
            "0        0.336832                      105                      Low   \n",
            "1        0.918055                      192                      Low   \n",
            "2        0.068637                       41                      Low   \n",
            "3        0.569198                      163                      Low   \n",
            "4        0.045738                       13                      Low   \n",
            "\n",
            "   TransactionAmount_binned_encoded  Target  \n",
            "0                                 0       0  \n",
            "1                                 0       0  \n",
            "2                                 0       1  \n",
            "3                                 0       0  \n",
            "4                                 0       0  \n",
            "Tampilkan 5 baris pertama pada dataset clustering_inverse :\n",
            "   TransactionAmount  TransactionDate  TransactionType  Location  Channel  \\\n",
            "0           0.003367        1689800.0              2.0    1548.0      0.0   \n",
            "1           0.091548        2927330.0              2.0     645.0      0.0   \n",
            "2           0.030687        3136070.0              2.0     989.0      6.0   \n",
            "3           0.044861        2032730.0              2.0    1419.0      6.0   \n",
            "4           0.022374        1577975.0              2.0    1204.0      0.0   \n",
            "\n",
            "   CustomerAge  CustomerOccupation  TransactionDuration  LoginAttempts  \\\n",
            "0     0.838710                 0.0             0.244828            0.0   \n",
            "1     0.806452                 0.0             0.451724            0.0   \n",
            "2     0.016129                12.0             0.158621            0.0   \n",
            "3     0.129032                12.0             0.051724            0.0   \n",
            "4     0.000000                12.0             0.558621            0.0   \n",
            "\n",
            "   AccountBalance  PreviousTransactionDate TransactionAmount_binned  \\\n",
            "0        0.336832                  37800.0                      Low   \n",
            "1        0.918055                  69120.0                      Low   \n",
            "2        0.068637                  14760.0                      Low   \n",
            "3        0.569198                  58680.0                      Low   \n",
            "4        0.045738                   4680.0                      Low   \n",
            "\n",
            "   TransactionAmount_binned_encoded  Target  \n",
            "0                               0.0       0  \n",
            "1                               0.0       0  \n",
            "2                               0.0       1  \n",
            "3                               0.0       0  \n",
            "4                               0.0       0  \n"
          ]
        }
      ]
    },
    {
      "cell_type": "markdown",
      "source": [
        "# **3. Data Splitting**\n",
        "Tahap Data Splitting bertujuan untuk memisahkan dataset menjadi dua bagian: data latih (training set) dan data uji (test set)."
      ],
      "metadata": {
        "id": "KkPem5eWL2UP"
      }
    },
    {
      "cell_type": "code",
      "source": [
        "# Menggunakan train_test_split() untuk melakukan pembagian dataset.\n",
        "X = data_clustering.drop('Target', axis=1)\n",
        "y = data_clustering['Target']\n",
        "X_train, X_test, y_train, y_test = train_test_split(X, y, test_size=0.2, random_state=42)\n",
        "\n",
        "le = LabelEncoder()\n",
        "y_train_encoded = le.fit_transform(y_train)\n",
        "y_test_encoded = le.transform(y_test)\n",
        "\n",
        "categorical_cols = X_train.select_dtypes(include=['object']).columns\n",
        "\n",
        "X_train_encoded = pd.get_dummies(X_train, columns=categorical_cols, drop_first=True)\n",
        "X_test_encoded = pd.get_dummies(X_test, columns=categorical_cols, drop_first=True)\n",
        "\n",
        "X_train_encoded, X_test_encoded = X_train_encoded.align(X_test_encoded, join='left', axis=1, fill_value=0)"
      ],
      "metadata": {
        "id": "OubAW-7ONKVj"
      },
      "execution_count": 28,
      "outputs": []
    },
    {
      "cell_type": "markdown",
      "source": [
        "# **4. Membangun Model Klasifikasi**\n",
        "Setelah memilih algoritma klasifikasi yang sesuai, langkah selanjutnya adalah melatih model menggunakan data latih.\n",
        "\n",
        "Berikut adalah rekomendasi tahapannya.\n",
        "1. Menggunakan algoritma klasifikasi yaitu Decision Tree.\n",
        "2. Latih model menggunakan data yang sudah dipisah."
      ],
      "metadata": {
        "id": "IVPbB03CMhTT"
      }
    },
    {
      "cell_type": "code",
      "source": [
        "# Buatlah model klasifikasi menggunakan Decision Tree\n",
        "model = DecisionTreeClassifier().fit(X_train_encoded, y_train_encoded)\n",
        "print(\"Model Training selesai\")"
      ],
      "metadata": {
        "id": "4JYxBe87NLDk",
        "colab": {
          "base_uri": "https://localhost:8080/"
        },
        "outputId": "c7a7d532-f8a5-4a08-c760-0fe7111f1d10"
      },
      "execution_count": 29,
      "outputs": [
        {
          "output_type": "stream",
          "name": "stdout",
          "text": [
            "Model Training selesai\n"
          ]
        }
      ]
    },
    {
      "cell_type": "code",
      "source": [
        "# Menyimpan Model\n",
        "# import joblib\n",
        "# joblib.dump(model, 'decision_tree_model.h5')\n",
        "joblib.dump(model, 'decision_tree_model.h5')"
      ],
      "metadata": {
        "id": "P_AakAxghYv-",
        "colab": {
          "base_uri": "https://localhost:8080/"
        },
        "outputId": "260bb3b6-2313-4094-aaf5-425c8f0bcb0c"
      },
      "execution_count": 30,
      "outputs": [
        {
          "output_type": "execute_result",
          "data": {
            "text/plain": [
              "['decision_tree_model.h5']"
            ]
          },
          "metadata": {},
          "execution_count": 30
        }
      ]
    },
    {
      "cell_type": "markdown",
      "source": [
        "# **5. Memenuhi Kriteria Skilled dan Advanced dalam Membangun Model Klasifikasi**\n",
        "\n"
      ],
      "metadata": {
        "id": "epO4HhrzBXMg"
      }
    },
    {
      "cell_type": "markdown",
      "source": [
        "**Biarkan kosong jika tidak menerapkan kriteria skilled atau advanced**"
      ],
      "metadata": {
        "id": "DNOEZk24uiXu"
      }
    },
    {
      "cell_type": "code",
      "source": [
        "# Melatih model menggunakan algoritma klasifikasi selain Decision Tree.\n",
        "knn = KNeighborsClassifier().fit(X_train_encoded, y_train_encoded)\n",
        "rf = RandomForestClassifier().fit(X_train_encoded, y_train_encoded)\n",
        "svm = SVC().fit(X_train_encoded, y_train_encoded)\n",
        "nb = GaussianNB().fit(X_train_encoded, y_train_encoded)\n",
        "\n",
        "print(\"Model Training selesai\")"
      ],
      "metadata": {
        "id": "kB_8LIWMATl6",
        "colab": {
          "base_uri": "https://localhost:8080/"
        },
        "outputId": "2018bfd6-6a33-45fc-d6b7-c1d7a9f39f93"
      },
      "execution_count": 31,
      "outputs": [
        {
          "output_type": "stream",
          "name": "stdout",
          "text": [
            "Model Training selesai\n"
          ]
        }
      ]
    },
    {
      "cell_type": "code",
      "source": [
        "# Menampilkan hasil evaluasi akurasi, presisi, recall, dan F1-Score pada seluruh algoritma yang sudah dibuat.\n",
        "def evaluate_model(model, X_test, y_test):\n",
        "    y_pred = model.predict(X_test)\n",
        "    cm = confusion_matrix(y_test, y_pred)\n",
        "\n",
        "    results = {\n",
        "        'Confusion Matrix': cm,\n",
        "        'Accuracy': accuracy_score(y_test, y_pred),\n",
        "        'Precision': precision_score(y_test, y_pred, average='weighted'),\n",
        "        'Recall': recall_score(y_test, y_pred, average='weighted'),\n",
        "        'F1-Score': f1_score(y_test, y_pred, average='weighted')\n",
        "    }\n",
        "    return results\n",
        "\n",
        "# Mengevaluasi setiap model dan mengumpulkan hasilnya\n",
        "model_results = {\n",
        "    'Decision Tree': evaluate_model(model, X_test_encoded, y_test_encoded),\n",
        "    'K-Nearest Neighbors': evaluate_model(knn, X_test_encoded, y_test_encoded),\n",
        "    'Random Forest': evaluate_model(rf, X_test_encoded, y_test_encoded),\n",
        "    'Support Vector Machine (SVM)': evaluate_model(svm, X_test_encoded, y_test_encoded),\n",
        "    'Naive Bayes (NB)': evaluate_model(nb, X_test_encoded, y_test_encoded)\n",
        "}\n",
        "\n",
        "rows = []\n",
        "for model_name, metrics in model_results.items():\n",
        "    rows.append({\n",
        "        'Model': model_name,\n",
        "        'Accuracy': metrics['Accuracy'],\n",
        "        'Precision': metrics['Precision'],\n",
        "        'Recall': metrics['Recall'],\n",
        "        'F1-Score': metrics['F1-Score']\n",
        "    })\n",
        "\n",
        "summary_df = pd.DataFrame(rows)\n",
        "\n",
        "print(summary_df)"
      ],
      "metadata": {
        "id": "bRlKm5BVAT91",
        "colab": {
          "base_uri": "https://localhost:8080/"
        },
        "outputId": "2b293eef-6b8d-4bd8-debb-d87fadab4fcc"
      },
      "execution_count": 32,
      "outputs": [
        {
          "output_type": "stream",
          "name": "stdout",
          "text": [
            "                          Model  Accuracy  Precision    Recall  F1-Score\n",
            "0                 Decision Tree  1.000000   1.000000  1.000000  1.000000\n",
            "1           K-Nearest Neighbors  0.988539   0.988606  0.988539  0.988540\n",
            "2                 Random Forest  1.000000   1.000000  1.000000  1.000000\n",
            "3  Support Vector Machine (SVM)  1.000000   1.000000  1.000000  1.000000\n",
            "4              Naive Bayes (NB)  0.962751   0.963347  0.962751  0.962762\n"
          ]
        }
      ]
    },
    {
      "cell_type": "code",
      "source": [
        "# Menyimpan Model Selain Decision Tree\n",
        "# Model ini bisa lebih dari satu\n",
        "# import joblib\n",
        "# joblib.dump(___, 'explore_<Nama Algoritma>_classification.h5')\n",
        "joblib.dump(knn, 'explore_KNN_classification.h5')\n",
        "joblib.dump(rf, 'explore_RF_classification.h5')\n",
        "joblib.dump(svm, 'explore_SVM_classification.h5')\n",
        "joblib.dump(nb, 'explore_NB_classification.h5')"
      ],
      "metadata": {
        "id": "dUPItkbXBNkO",
        "colab": {
          "base_uri": "https://localhost:8080/"
        },
        "outputId": "c773952a-b32b-43f5-9591-98c0049df098"
      },
      "execution_count": 33,
      "outputs": [
        {
          "output_type": "execute_result",
          "data": {
            "text/plain": [
              "['explore_NB_classification.h5']"
            ]
          },
          "metadata": {},
          "execution_count": 33
        }
      ]
    },
    {
      "cell_type": "markdown",
      "source": [
        "Hyperparameter Tuning Model\n",
        "\n",
        "Pilih salah satu algoritma yang ingin Anda tuning"
      ],
      "metadata": {
        "id": "u23H2guj-h9h"
      }
    },
    {
      "cell_type": "code",
      "source": [
        "# Lakukan Hyperparameter Tuning dan Latih ulang.\n",
        "# Lakukan dalam satu cell ini saja.\n",
        "param_grid = {\n",
        "    'max_depth': [None, 10, 20, 30],\n",
        "    'min_samples_split': [2, 5, 10],\n",
        "    'min_samples_leaf': [1, 2, 4],\n",
        "    'criterion': ['gini', 'entropy']\n",
        "}\n",
        "\n",
        "grid_search = GridSearchCV(estimator=DecisionTreeClassifier(), param_grid=param_grid, cv=5, scoring='accuracy')\n",
        "\n",
        "grid_search.fit(X_train_encoded, y_train_encoded)\n",
        "\n",
        "model_dt = grid_search.best_estimator_\n",
        "\n",
        "print(\"Best Hyperparameters:\", grid_search.best_params_)\n",
        "\n",
        "dt_tuned_results = evaluate_model(model_dt, X_test_encoded, y_test_encoded)"
      ],
      "metadata": {
        "id": "dFCTxJJq-m-l",
        "colab": {
          "base_uri": "https://localhost:8080/"
        },
        "outputId": "9f2beb7a-bc10-4842-d814-14e4d33d3118"
      },
      "execution_count": 34,
      "outputs": [
        {
          "output_type": "stream",
          "name": "stdout",
          "text": [
            "Best Hyperparameters: {'criterion': 'gini', 'max_depth': None, 'min_samples_leaf': 1, 'min_samples_split': 2}\n"
          ]
        }
      ]
    },
    {
      "cell_type": "code",
      "source": [
        "# Menampilkan hasil evaluasi akurasi, presisi, recall, dan F1-Score pada algoritma yang sudah dituning.\n",
        "print(\"\\nEvaluasi Model Decision Tree (Tuned):\")\n",
        "print(f\"Accuracy: {dt_tuned_results['Accuracy']:.4f}\")\n",
        "print(f\"Precision: {dt_tuned_results['Precision']:.4f}\")\n",
        "print(f\"Recall: {dt_tuned_results['Recall']:.4f}\")\n",
        "print(f\"F1-Score: {dt_tuned_results['F1-Score']:.4f}\")\n",
        "print(\"Confusion Matrix:\\n\", dt_tuned_results['Confusion Matrix'])"
      ],
      "metadata": {
        "id": "1g6EPSSWxjcQ",
        "colab": {
          "base_uri": "https://localhost:8080/"
        },
        "outputId": "b8d32081-53d6-482c-e5db-50c076af7b13"
      },
      "execution_count": 35,
      "outputs": [
        {
          "output_type": "stream",
          "name": "stdout",
          "text": [
            "\n",
            "Evaluasi Model Decision Tree (Tuned):\n",
            "Accuracy: 1.0000\n",
            "Precision: 1.0000\n",
            "Recall: 1.0000\n",
            "F1-Score: 1.0000\n",
            "Confusion Matrix:\n",
            " [[82  0  0  0]\n",
            " [ 0 83  0  0]\n",
            " [ 0  0 98  0]\n",
            " [ 0  0  0 86]]\n"
          ]
        }
      ]
    },
    {
      "cell_type": "code",
      "source": [
        "# Menyimpan Model hasil tuning\n",
        "# import joblib\n",
        "# joblib.dump(__, 'tuning_classification.h5')\n",
        "joblib.dump(model_dt, 'tuning_classification.h5')"
      ],
      "metadata": {
        "id": "7UJNcVP--n7S",
        "colab": {
          "base_uri": "https://localhost:8080/"
        },
        "outputId": "39a3ba56-60e5-4904-d563-f8228ac772ce"
      },
      "execution_count": 36,
      "outputs": [
        {
          "output_type": "execute_result",
          "data": {
            "text/plain": [
              "['tuning_classification.h5']"
            ]
          },
          "metadata": {},
          "execution_count": 36
        }
      ]
    },
    {
      "cell_type": "markdown",
      "source": [
        "End of Code"
      ],
      "metadata": {
        "id": "0Hs4Xp4OiGEk"
      }
    }
  ]
}